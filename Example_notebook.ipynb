{
 "cells": [
  {
   "cell_type": "code",
   "execution_count": null,
   "metadata": {},
   "outputs": [],
   "source": [
    "import My_API_Wraps\n",
    "import My_FE_Wraps\n",
    "import My_FS_Wraps\n",
    "from dask.distributed import Client, LocalCluster\n",
    "import pandas as pd\n",
    "import datetime as dt\n",
    "import numpy as np\n",
    "import matplotlib\n",
    "import matplotlib.pyplot as plt\n",
    "import dask.dataframe as dd"
   ]
  },
  {
   "cell_type": "code",
   "execution_count": null,
   "metadata": {},
   "outputs": [],
   "source": [
    "cluster = LocalCluster(\n",
    "            n_workers=4,\n",
    "            processes=True,\n",
    "            threads_per_worker=5,\n",
    "            memory_limit='6GB',\n",
    "            dashboard_address=':8787',\n",
    "            resources={'GPU': 1}\n",
    "        )\n",
    "client = Client(cluster)\n",
    "periods= 1\n",
    "timeframe= 89\n",
    "top_coins= 6\n",
    "api_key= \"CG-r57ENE22zzPUiLmjnyFK7YHw\"\n",
    "headers = {\n",
    "    \"accept\": \"application/json\",\n",
    "    \"x-cg-demo-api-key\": api_key\n",
    "    }\n",
    "client"
   ]
  },
  {
   "cell_type": "code",
   "execution_count": null,
   "metadata": {},
   "outputs": [],
   "source": [
    "df_pandas= My_API_Wraps.CoinGecko_HSPD_Pandas(timeframe, top_coins, periods, api_key)"
   ]
  },
  {
   "cell_type": "code",
   "execution_count": null,
   "metadata": {},
   "outputs": [],
   "source": [
    "EF_pandas_V1= My_FE_Wraps.EF_Pandas_MultiprocessingDistributor(df_pandas, ParameterComplexity=0)"
   ]
  },
  {
   "cell_type": "code",
   "execution_count": null,
   "metadata": {},
   "outputs": [],
   "source": [
    "EF_pandas_V2= My_FE_Wraps.EF_Pandas_DaskDistributor(df_pandas, cluster.scheduler_address, ParameterComplexity=0)\n"
   ]
  },
  {
   "cell_type": "code",
   "execution_count": null,
   "metadata": {},
   "outputs": [],
   "source": [
    "SF_pandas= My_FS_Wraps.SF_Pandas_Simple(EF_pandas2)"
   ]
  },
  {
   "cell_type": "code",
   "execution_count": null,
   "metadata": {},
   "outputs": [],
   "source": [
    "df_dask = My_API_Wraps.CoinGecko_HSPD_Dask(timeframe=timeframe, top_coins=top_coins, periods=periods, api_key=api_key, splits=5).persist()\n",
    "EF_dask= My_FE_Wraps.EF_Dask(df_dask, ParameterComplexity=0, splits=5).persist()\n",
    "SF_dask = My_FS_Wraps.SF_Dask_v1(EF_dask).persist()"
   ]
  }
 ],
 "metadata": {
  "language_info": {
   "name": "python"
  }
 },
 "nbformat": 4,
 "nbformat_minor": 2
}
